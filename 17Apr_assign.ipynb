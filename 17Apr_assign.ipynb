{
 "cells": [
  {
   "cell_type": "markdown",
   "id": "8a9b0a7a-4b89-4c99-8a50-6c20358d61ca",
   "metadata": {},
   "source": [
    "Q1. What is Gradient Boosting Regression?"
   ]
  },
  {
   "cell_type": "markdown",
   "id": "4268f8af-964a-496d-8c0c-269d7101985e",
   "metadata": {},
   "source": [
    "Gradient Boosting Regression or Gradient Boosting, is a powerful machine learning technique used for regression tasks. It's an ensemble learning method that combines the predictions of multiple weak learners (usually decision trees) to create a strong regression model. Gradient Boosting is known for its high predictive accuracy and ability to handle complex relationships between features and the target variable."
   ]
  },
  {
   "cell_type": "markdown",
   "id": "b16cfc4d-2d49-4e11-96fb-4ac77a197cf9",
   "metadata": {},
   "source": [
    "Q2. Implement a simple gradient boosting algorithm from scratch using Python and NumPy. Use a\n",
    "simple regression problem as an example and train the model on a small dataset. Evaluate the model's\n",
    "performance using metrics such as mean squared error and R-squared."
   ]
  },
  {
   "cell_type": "code",
   "execution_count": 1,
   "id": "ccfbaf6c-7955-4c7f-9961-7c4562a2e604",
   "metadata": {},
   "outputs": [],
   "source": [
    "from sklearn.datasets import make_regression\n",
    "from sklearn.model_selection import train_test_split,GridSearchCV\n",
    "from sklearn.ensemble import GradientBoostingRegressor\n",
    "from sklearn.metrics import r2_score,mean_squared_error,mean_absolute_error"
   ]
  },
  {
   "cell_type": "code",
   "execution_count": 2,
   "id": "26bba803-7a05-4298-9a4b-ba68c2fd28eb",
   "metadata": {},
   "outputs": [
    {
     "data": {
      "text/plain": [
       "((1000, 5), (1000,))"
      ]
     },
     "execution_count": 2,
     "metadata": {},
     "output_type": "execute_result"
    }
   ],
   "source": [
    "X,y = make_regression(n_samples=1000,n_features=5,n_informative=3,random_state=42,shuffle=False)\n",
    "\n",
    "X.shape , y.shape"
   ]
  },
  {
   "cell_type": "code",
   "execution_count": 3,
   "id": "605c52a9-d13e-48ab-8c86-f21566bca3d8",
   "metadata": {},
   "outputs": [
    {
     "data": {
      "text/plain": [
       "((750, 5), (250, 5), (750,), (250,))"
      ]
     },
     "execution_count": 3,
     "metadata": {},
     "output_type": "execute_result"
    }
   ],
   "source": [
    "X_train,X_test,y_train,y_test = train_test_split(X,y,test_size=0.25,random_state=42)\n",
    "\n",
    "X_train.shape , X_test.shape , y_train.shape , y_test.shape"
   ]
  },
  {
   "cell_type": "code",
   "execution_count": 4,
   "id": "9f979d05-2b49-4c38-908c-b675f5ff6913",
   "metadata": {},
   "outputs": [
    {
     "name": "stdout",
     "output_type": "stream",
     "text": [
      "R-squared : 0.9899443982239283\n",
      "Mean Square Error : 28.21143077774381\n",
      "Mean Absolute Error : 4.07083806469075\n"
     ]
    }
   ],
   "source": [
    "gb = GradientBoostingRegressor()\n",
    "gb.fit(X_train,y_train)\n",
    "y_pred = gb.predict(X_test)\n",
    "print(f\"R-squared : {r2_score(y_test,y_pred)}\")\n",
    "print(f\"Mean Square Error : {mean_squared_error(y_test,y_pred)}\")\n",
    "print(f\"Mean Absolute Error : {mean_absolute_error(y_test,y_pred)}\")"
   ]
  },
  {
   "cell_type": "markdown",
   "id": "8f528ad6-05d7-44c1-871f-cf479606dd3d",
   "metadata": {},
   "source": [
    "Q3. Experiment with different hyperparameters such as learning rate, number of trees, and tree depth to\n",
    "optimise the performance of the model. Use grid search or random search to find the best\n",
    "hyperparameters"
   ]
  },
  {
   "cell_type": "code",
   "execution_count": 5,
   "id": "6763f52e-ad56-4d23-b35c-5777904e06d2",
   "metadata": {},
   "outputs": [],
   "source": [
    "params = {'learning_rate':[0.01,0.1,0.5,1] ,\n",
    "          'n_estimators': [100,200,300],\n",
    "          'max_depth': [2,3,5]\n",
    "         }"
   ]
  },
  {
   "cell_type": "code",
   "execution_count": null,
   "id": "0182d25c-8347-452a-9e83-a64a5fc2c81a",
   "metadata": {},
   "outputs": [
    {
     "name": "stdout",
     "output_type": "stream",
     "text": [
      "Fitting 5 folds for each of 36 candidates, totalling 180 fits\n",
      "[CV 1/5] END learning_rate=0.01, max_depth=2, n_estimators=100;, score=0.623 total time=   0.1s\n",
      "[CV 2/5] END learning_rate=0.01, max_depth=2, n_estimators=100;, score=0.671 total time=   0.1s\n",
      "[CV 3/5] END learning_rate=0.01, max_depth=2, n_estimators=100;, score=0.631 total time=   0.1s\n",
      "[CV 4/5] END learning_rate=0.01, max_depth=2, n_estimators=100;, score=0.647 total time=   0.1s\n",
      "[CV 5/5] END learning_rate=0.01, max_depth=2, n_estimators=100;, score=0.608 total time=   0.1s\n",
      "[CV 1/5] END learning_rate=0.01, max_depth=2, n_estimators=200;, score=0.801 total time=   0.3s\n",
      "[CV 2/5] END learning_rate=0.01, max_depth=2, n_estimators=200;, score=0.843 total time=   0.3s\n",
      "[CV 3/5] END learning_rate=0.01, max_depth=2, n_estimators=200;, score=0.812 total time=   0.3s\n",
      "[CV 4/5] END learning_rate=0.01, max_depth=2, n_estimators=200;, score=0.816 total time=   0.3s\n",
      "[CV 5/5] END learning_rate=0.01, max_depth=2, n_estimators=200;, score=0.795 total time=   0.3s\n",
      "[CV 1/5] END learning_rate=0.01, max_depth=2, n_estimators=300;, score=0.882 total time=   0.4s\n",
      "[CV 2/5] END learning_rate=0.01, max_depth=2, n_estimators=300;, score=0.913 total time=   0.4s\n",
      "[CV 3/5] END learning_rate=0.01, max_depth=2, n_estimators=300;, score=0.886 total time=   0.4s\n",
      "[CV 4/5] END learning_rate=0.01, max_depth=2, n_estimators=300;, score=0.895 total time=   0.4s\n",
      "[CV 5/5] END learning_rate=0.01, max_depth=2, n_estimators=300;, score=0.880 total time=   0.4s\n",
      "[CV 1/5] END learning_rate=0.01, max_depth=3, n_estimators=100;, score=0.716 total time=   0.2s\n",
      "[CV 2/5] END learning_rate=0.01, max_depth=3, n_estimators=100;, score=0.755 total time=   0.2s\n",
      "[CV 3/5] END learning_rate=0.01, max_depth=3, n_estimators=100;, score=0.728 total time=   0.2s\n",
      "[CV 4/5] END learning_rate=0.01, max_depth=3, n_estimators=100;, score=0.719 total time=   0.2s\n",
      "[CV 5/5] END learning_rate=0.01, max_depth=3, n_estimators=100;, score=0.708 total time=   0.2s\n",
      "[CV 1/5] END learning_rate=0.01, max_depth=3, n_estimators=200;, score=0.875 total time=   0.4s\n",
      "[CV 2/5] END learning_rate=0.01, max_depth=3, n_estimators=200;, score=0.904 total time=   0.4s\n",
      "[CV 3/5] END learning_rate=0.01, max_depth=3, n_estimators=200;, score=0.883 total time=   0.4s\n",
      "[CV 4/5] END learning_rate=0.01, max_depth=3, n_estimators=200;, score=0.889 total time=   0.4s\n",
      "[CV 5/5] END learning_rate=0.01, max_depth=3, n_estimators=200;, score=0.876 total time=   0.4s\n",
      "[CV 1/5] END learning_rate=0.01, max_depth=3, n_estimators=300;, score=0.933 total time=   0.5s\n",
      "[CV 2/5] END learning_rate=0.01, max_depth=3, n_estimators=300;, score=0.953 total time=   0.5s\n",
      "[CV 3/5] END learning_rate=0.01, max_depth=3, n_estimators=300;, score=0.934 total time=   0.5s\n",
      "[CV 4/5] END learning_rate=0.01, max_depth=3, n_estimators=300;, score=0.943 total time=   0.5s\n",
      "[CV 5/5] END learning_rate=0.01, max_depth=3, n_estimators=300;, score=0.936 total time=   0.5s\n",
      "[CV 1/5] END learning_rate=0.01, max_depth=5, n_estimators=100;, score=0.790 total time=   0.2s\n",
      "[CV 2/5] END learning_rate=0.01, max_depth=5, n_estimators=100;, score=0.820 total time=   0.2s\n",
      "[CV 3/5] END learning_rate=0.01, max_depth=5, n_estimators=100;, score=0.796 total time=   0.2s\n",
      "[CV 4/5] END learning_rate=0.01, max_depth=5, n_estimators=100;, score=0.790 total time=   0.3s\n",
      "[CV 5/5] END learning_rate=0.01, max_depth=5, n_estimators=100;, score=0.798 total time=   0.2s\n",
      "[CV 1/5] END learning_rate=0.01, max_depth=5, n_estimators=200;, score=0.930 total time=   0.5s\n",
      "[CV 2/5] END learning_rate=0.01, max_depth=5, n_estimators=200;, score=0.949 total time=   0.5s\n",
      "[CV 3/5] END learning_rate=0.01, max_depth=5, n_estimators=200;, score=0.936 total time=   0.5s\n",
      "[CV 4/5] END learning_rate=0.01, max_depth=5, n_estimators=200;, score=0.935 total time=   0.5s\n",
      "[CV 5/5] END learning_rate=0.01, max_depth=5, n_estimators=200;, score=0.937 total time=   0.5s\n",
      "[CV 1/5] END learning_rate=0.01, max_depth=5, n_estimators=300;, score=0.961 total time=   0.7s\n",
      "[CV 2/5] END learning_rate=0.01, max_depth=5, n_estimators=300;, score=0.974 total time=   0.7s\n",
      "[CV 3/5] END learning_rate=0.01, max_depth=5, n_estimators=300;, score=0.967 total time=   0.8s\n",
      "[CV 4/5] END learning_rate=0.01, max_depth=5, n_estimators=300;, score=0.967 total time=   0.7s\n",
      "[CV 5/5] END learning_rate=0.01, max_depth=5, n_estimators=300;, score=0.967 total time=   0.7s\n",
      "[CV 1/5] END learning_rate=0.1, max_depth=2, n_estimators=100;, score=0.981 total time=   0.1s\n",
      "[CV 2/5] END learning_rate=0.1, max_depth=2, n_estimators=100;, score=0.987 total time=   0.1s\n",
      "[CV 3/5] END learning_rate=0.1, max_depth=2, n_estimators=100;, score=0.979 total time=   0.1s\n",
      "[CV 4/5] END learning_rate=0.1, max_depth=2, n_estimators=100;, score=0.986 total time=   0.1s\n",
      "[CV 5/5] END learning_rate=0.1, max_depth=2, n_estimators=100;, score=0.983 total time=   0.1s\n",
      "[CV 1/5] END learning_rate=0.1, max_depth=2, n_estimators=200;, score=0.987 total time=   0.3s\n",
      "[CV 2/5] END learning_rate=0.1, max_depth=2, n_estimators=200;, score=0.991 total time=   0.3s\n",
      "[CV 3/5] END learning_rate=0.1, max_depth=2, n_estimators=200;, score=0.987 total time=   0.3s\n",
      "[CV 4/5] END learning_rate=0.1, max_depth=2, n_estimators=200;, score=0.991 total time=   0.3s\n",
      "[CV 5/5] END learning_rate=0.1, max_depth=2, n_estimators=200;, score=0.989 total time=   0.3s\n",
      "[CV 1/5] END learning_rate=0.1, max_depth=2, n_estimators=300;, score=0.989 total time=   0.4s\n",
      "[CV 2/5] END learning_rate=0.1, max_depth=2, n_estimators=300;, score=0.993 total time=   0.4s\n",
      "[CV 3/5] END learning_rate=0.1, max_depth=2, n_estimators=300;, score=0.989 total time=   0.4s\n",
      "[CV 4/5] END learning_rate=0.1, max_depth=2, n_estimators=300;, score=0.992 total time=   0.4s\n",
      "[CV 5/5] END learning_rate=0.1, max_depth=2, n_estimators=300;, score=0.991 total time=   0.4s\n",
      "[CV 1/5] END learning_rate=0.1, max_depth=3, n_estimators=100;, score=0.984 total time=   0.2s\n",
      "[CV 2/5] END learning_rate=0.1, max_depth=3, n_estimators=100;, score=0.987 total time=   0.2s\n",
      "[CV 3/5] END learning_rate=0.1, max_depth=3, n_estimators=100;, score=0.983 total time=   0.2s\n",
      "[CV 4/5] END learning_rate=0.1, max_depth=3, n_estimators=100;, score=0.987 total time=   0.2s\n",
      "[CV 5/5] END learning_rate=0.1, max_depth=3, n_estimators=100;, score=0.986 total time=   0.2s\n",
      "[CV 1/5] END learning_rate=0.1, max_depth=3, n_estimators=200;, score=0.987 total time=   0.4s\n",
      "[CV 2/5] END learning_rate=0.1, max_depth=3, n_estimators=200;, score=0.989 total time=   0.4s\n",
      "[CV 3/5] END learning_rate=0.1, max_depth=3, n_estimators=200;, score=0.985 total time=   0.4s\n",
      "[CV 4/5] END learning_rate=0.1, max_depth=3, n_estimators=200;, score=0.990 total time=   0.4s\n",
      "[CV 5/5] END learning_rate=0.1, max_depth=3, n_estimators=200;, score=0.988 total time=   0.4s\n",
      "[CV 1/5] END learning_rate=0.1, max_depth=3, n_estimators=300;, score=0.988 total time=   0.5s\n",
      "[CV 2/5] END learning_rate=0.1, max_depth=3, n_estimators=300;, score=0.990 total time=   0.5s\n",
      "[CV 3/5] END learning_rate=0.1, max_depth=3, n_estimators=300;, score=0.986 total time=   0.5s\n",
      "[CV 4/5] END learning_rate=0.1, max_depth=3, n_estimators=300;, score=0.991 total time=   0.5s\n",
      "[CV 5/5] END learning_rate=0.1, max_depth=3, n_estimators=300;, score=0.989 total time=   0.5s\n",
      "[CV 1/5] END learning_rate=0.1, max_depth=5, n_estimators=100;, score=0.979 total time=   0.3s\n",
      "[CV 2/5] END learning_rate=0.1, max_depth=5, n_estimators=100;, score=0.982 total time=   0.3s\n",
      "[CV 3/5] END learning_rate=0.1, max_depth=5, n_estimators=100;, score=0.983 total time=   0.3s\n",
      "[CV 4/5] END learning_rate=0.1, max_depth=5, n_estimators=100;, score=0.980 total time=   0.3s\n",
      "[CV 5/5] END learning_rate=0.1, max_depth=5, n_estimators=100;, score=0.983 total time=   0.3s\n",
      "[CV 1/5] END learning_rate=0.1, max_depth=5, n_estimators=200;, score=0.978 total time=   0.5s\n",
      "[CV 2/5] END learning_rate=0.1, max_depth=5, n_estimators=200;, score=0.982 total time=   0.5s\n",
      "[CV 3/5] END learning_rate=0.1, max_depth=5, n_estimators=200;, score=0.984 total time=   0.5s\n",
      "[CV 4/5] END learning_rate=0.1, max_depth=5, n_estimators=200;, score=0.981 total time=   0.5s\n",
      "[CV 5/5] END learning_rate=0.1, max_depth=5, n_estimators=200;, score=0.983 total time=   0.5s\n",
      "[CV 1/5] END learning_rate=0.1, max_depth=5, n_estimators=300;, score=0.979 total time=   0.8s\n",
      "[CV 2/5] END learning_rate=0.1, max_depth=5, n_estimators=300;, score=0.983 total time=   0.8s\n",
      "[CV 3/5] END learning_rate=0.1, max_depth=5, n_estimators=300;, score=0.984 total time=   0.8s\n",
      "[CV 4/5] END learning_rate=0.1, max_depth=5, n_estimators=300;, score=0.981 total time=   0.8s\n",
      "[CV 5/5] END learning_rate=0.1, max_depth=5, n_estimators=300;, score=0.983 total time=   0.8s\n",
      "[CV 1/5] END learning_rate=0.5, max_depth=2, n_estimators=100;, score=0.985 total time=   0.1s\n",
      "[CV 2/5] END learning_rate=0.5, max_depth=2, n_estimators=100;, score=0.983 total time=   0.1s\n",
      "[CV 3/5] END learning_rate=0.5, max_depth=2, n_estimators=100;, score=0.980 total time=   0.1s\n",
      "[CV 4/5] END learning_rate=0.5, max_depth=2, n_estimators=100;, score=0.986 total time=   0.1s\n",
      "[CV 5/5] END learning_rate=0.5, max_depth=2, n_estimators=100;, score=0.983 total time=   0.1s\n",
      "[CV 1/5] END learning_rate=0.5, max_depth=2, n_estimators=200;, score=0.988 total time=   0.3s\n",
      "[CV 2/5] END learning_rate=0.5, max_depth=2, n_estimators=200;, score=0.986 total time=   0.3s\n",
      "[CV 3/5] END learning_rate=0.5, max_depth=2, n_estimators=200;, score=0.984 total time=   0.3s\n",
      "[CV 4/5] END learning_rate=0.5, max_depth=2, n_estimators=200;, score=0.988 total time=   0.3s\n",
      "[CV 5/5] END learning_rate=0.5, max_depth=2, n_estimators=200;, score=0.985 total time=   0.3s\n",
      "[CV 1/5] END learning_rate=0.5, max_depth=2, n_estimators=300;, score=0.989 total time=   0.4s\n",
      "[CV 2/5] END learning_rate=0.5, max_depth=2, n_estimators=300;, score=0.987 total time=   0.4s\n",
      "[CV 3/5] END learning_rate=0.5, max_depth=2, n_estimators=300;, score=0.982 total time=   0.4s\n",
      "[CV 4/5] END learning_rate=0.5, max_depth=2, n_estimators=300;, score=0.988 total time=   0.4s\n",
      "[CV 5/5] END learning_rate=0.5, max_depth=2, n_estimators=300;, score=0.986 total time=   0.4s\n",
      "[CV 1/5] END learning_rate=0.5, max_depth=3, n_estimators=100;, score=0.981 total time=   0.2s\n",
      "[CV 2/5] END learning_rate=0.5, max_depth=3, n_estimators=100;, score=0.976 total time=   0.2s\n",
      "[CV 3/5] END learning_rate=0.5, max_depth=3, n_estimators=100;, score=0.976 total time=   0.2s\n",
      "[CV 4/5] END learning_rate=0.5, max_depth=3, n_estimators=100;, score=0.979 total time=   0.2s\n",
      "[CV 5/5] END learning_rate=0.5, max_depth=3, n_estimators=100;, score=0.971 total time=   0.2s\n",
      "[CV 1/5] END learning_rate=0.5, max_depth=3, n_estimators=200;, score=0.981 total time=   0.4s\n",
      "[CV 2/5] END learning_rate=0.5, max_depth=3, n_estimators=200;, score=0.977 total time=   0.4s\n",
      "[CV 3/5] END learning_rate=0.5, max_depth=3, n_estimators=200;, score=0.976 total time=   0.4s\n",
      "[CV 4/5] END learning_rate=0.5, max_depth=3, n_estimators=200;, score=0.977 total time=   0.4s\n",
      "[CV 5/5] END learning_rate=0.5, max_depth=3, n_estimators=200;, score=0.971 total time=   0.4s\n",
      "[CV 1/5] END learning_rate=0.5, max_depth=3, n_estimators=300;, score=0.981 total time=   0.5s\n",
      "[CV 2/5] END learning_rate=0.5, max_depth=3, n_estimators=300;, score=0.977 total time=   0.5s\n",
      "[CV 3/5] END learning_rate=0.5, max_depth=3, n_estimators=300;, score=0.976 total time=   0.5s\n",
      "[CV 4/5] END learning_rate=0.5, max_depth=3, n_estimators=300;, score=0.978 total time=   0.5s\n",
      "[CV 5/5] END learning_rate=0.5, max_depth=3, n_estimators=300;, score=0.971 total time=   0.5s\n",
      "[CV 1/5] END learning_rate=0.5, max_depth=5, n_estimators=100;, score=0.958 total time=   0.3s\n",
      "[CV 2/5] END learning_rate=0.5, max_depth=5, n_estimators=100;, score=0.962 total time=   0.3s\n",
      "[CV 3/5] END learning_rate=0.5, max_depth=5, n_estimators=100;, score=0.975 total time=   0.3s\n",
      "[CV 4/5] END learning_rate=0.5, max_depth=5, n_estimators=100;, score=0.964 total time=   0.3s\n",
      "[CV 5/5] END learning_rate=0.5, max_depth=5, n_estimators=100;, score=0.966 total time=   0.3s\n",
      "[CV 1/5] END learning_rate=0.5, max_depth=5, n_estimators=200;, score=0.960 total time=   0.5s\n",
      "[CV 2/5] END learning_rate=0.5, max_depth=5, n_estimators=200;, score=0.962 total time=   0.5s\n",
      "[CV 3/5] END learning_rate=0.5, max_depth=5, n_estimators=200;, score=0.974 total time=   0.5s\n",
      "[CV 4/5] END learning_rate=0.5, max_depth=5, n_estimators=200;, score=0.965 total time=   0.5s\n",
      "[CV 5/5] END learning_rate=0.5, max_depth=5, n_estimators=200;, score=0.965 total time=   0.5s\n",
      "[CV 1/5] END learning_rate=0.5, max_depth=5, n_estimators=300;, score=0.962 total time=   0.8s\n",
      "[CV 2/5] END learning_rate=0.5, max_depth=5, n_estimators=300;, score=0.961 total time=   0.8s\n",
      "[CV 3/5] END learning_rate=0.5, max_depth=5, n_estimators=300;, score=0.975 total time=   0.8s\n",
      "[CV 4/5] END learning_rate=0.5, max_depth=5, n_estimators=300;, score=0.965 total time=   0.8s\n",
      "[CV 5/5] END learning_rate=0.5, max_depth=5, n_estimators=300;, score=0.966 total time=   0.8s\n",
      "[CV 1/5] END learning_rate=1, max_depth=2, n_estimators=100;, score=0.980 total time=   0.1s\n",
      "[CV 2/5] END learning_rate=1, max_depth=2, n_estimators=100;, score=0.977 total time=   0.1s\n",
      "[CV 3/5] END learning_rate=1, max_depth=2, n_estimators=100;, score=0.982 total time=   0.1s\n",
      "[CV 4/5] END learning_rate=1, max_depth=2, n_estimators=100;, score=0.974 total time=   0.1s\n",
      "[CV 5/5] END learning_rate=1, max_depth=2, n_estimators=100;, score=0.967 total time=   0.1s\n",
      "[CV 1/5] END learning_rate=1, max_depth=2, n_estimators=200;, score=0.980 total time=   0.3s\n",
      "[CV 2/5] END learning_rate=1, max_depth=2, n_estimators=200;, score=0.975 total time=   0.3s\n",
      "[CV 3/5] END learning_rate=1, max_depth=2, n_estimators=200;, score=0.982 total time=   0.3s\n",
      "[CV 4/5] END learning_rate=1, max_depth=2, n_estimators=200;, score=0.973 total time=   0.3s\n",
      "[CV 5/5] END learning_rate=1, max_depth=2, n_estimators=200;, score=0.971 total time=   0.3s\n",
      "[CV 1/5] END learning_rate=1, max_depth=2, n_estimators=300;, score=0.979 total time=   0.4s\n",
      "[CV 2/5] END learning_rate=1, max_depth=2, n_estimators=300;, score=0.975 total time=   0.4s\n",
      "[CV 3/5] END learning_rate=1, max_depth=2, n_estimators=300;, score=0.982 total time=   0.4s\n",
      "[CV 4/5] END learning_rate=1, max_depth=2, n_estimators=300;, score=0.974 total time=   0.4s\n",
      "[CV 5/5] END learning_rate=1, max_depth=2, n_estimators=300;, score=0.969 total time=   0.4s\n",
      "[CV 1/5] END learning_rate=1, max_depth=3, n_estimators=100;, score=0.947 total time=   0.2s\n",
      "[CV 2/5] END learning_rate=1, max_depth=3, n_estimators=100;, score=0.953 total time=   0.2s\n",
      "[CV 3/5] END learning_rate=1, max_depth=3, n_estimators=100;, score=0.950 total time=   0.2s\n",
      "[CV 4/5] END learning_rate=1, max_depth=3, n_estimators=100;, score=0.974 total time=   0.2s\n",
      "[CV 5/5] END learning_rate=1, max_depth=3, n_estimators=100;, score=0.925 total time=   0.2s\n",
      "[CV 1/5] END learning_rate=1, max_depth=3, n_estimators=200;, score=0.951 total time=   0.4s\n",
      "[CV 2/5] END learning_rate=1, max_depth=3, n_estimators=200;, score=0.954 total time=   0.4s\n",
      "[CV 3/5] END learning_rate=1, max_depth=3, n_estimators=200;, score=0.946 total time=   0.4s\n",
      "[CV 4/5] END learning_rate=1, max_depth=3, n_estimators=200;, score=0.973 total time=   0.4s\n",
      "[CV 5/5] END learning_rate=1, max_depth=3, n_estimators=200;, score=0.932 total time=   0.4s\n",
      "[CV 1/5] END learning_rate=1, max_depth=3, n_estimators=300;, score=0.953 total time=   0.5s\n",
      "[CV 2/5] END learning_rate=1, max_depth=3, n_estimators=300;, score=0.953 total time=   0.5s\n",
      "[CV 3/5] END learning_rate=1, max_depth=3, n_estimators=300;, score=0.946 total time=   0.5s\n",
      "[CV 4/5] END learning_rate=1, max_depth=3, n_estimators=300;, score=0.969 total time=   0.5s\n",
      "[CV 5/5] END learning_rate=1, max_depth=3, n_estimators=300;, score=0.934 total time=   0.5s\n",
      "[CV 1/5] END learning_rate=1, max_depth=5, n_estimators=100;, score=0.913 total time=   0.3s\n",
      "[CV 2/5] END learning_rate=1, max_depth=5, n_estimators=100;, score=0.884 total time=   0.3s\n",
      "[CV 3/5] END learning_rate=1, max_depth=5, n_estimators=100;, score=0.932 total time=   0.3s\n",
      "[CV 4/5] END learning_rate=1, max_depth=5, n_estimators=100;, score=0.886 total time=   0.3s\n",
      "[CV 5/5] END learning_rate=1, max_depth=5, n_estimators=100;, score=0.874 total time=   0.3s\n",
      "[CV 1/5] END learning_rate=1, max_depth=5, n_estimators=200;, score=0.913 total time=   0.5s\n",
      "[CV 2/5] END learning_rate=1, max_depth=5, n_estimators=200;, score=0.884 total time=   0.5s\n",
      "[CV 3/5] END learning_rate=1, max_depth=5, n_estimators=200;, score=0.933 total time=   0.5s\n",
      "[CV 4/5] END learning_rate=1, max_depth=5, n_estimators=200;, score=0.887 total time=   0.5s\n",
      "[CV 5/5] END learning_rate=1, max_depth=5, n_estimators=200;, score=0.875 total time=   0.5s\n",
      "[CV 1/5] END learning_rate=1, max_depth=5, n_estimators=300;, score=0.913 total time=   0.7s\n"
     ]
    }
   ],
   "source": [
    "clf = GridSearchCV(GradientBoostingRegressor(),param_grid = params,cv=5,verbose=3,scoring=\"r2\")\n",
    "clf.fit(X_train,y_train)"
   ]
  },
  {
   "cell_type": "code",
   "execution_count": null,
   "id": "a9189274-e384-444d-95af-630f8096c7b6",
   "metadata": {},
   "outputs": [],
   "source": [
    "clf.best_params_"
   ]
  },
  {
   "cell_type": "code",
   "execution_count": null,
   "id": "4c0ae08a-8688-4b76-bc72-c7e729923910",
   "metadata": {},
   "outputs": [],
   "source": [
    "clf.best_score_"
   ]
  },
  {
   "cell_type": "code",
   "execution_count": null,
   "id": "7368056d-abd3-43e0-9238-dea67c2efb1d",
   "metadata": {},
   "outputs": [],
   "source": [
    "model = GradientBoostingRegressor(**clf.best_params_)\n",
    "model.fit(X_train,y_train)\n",
    "y_pred = model.predict(X_test)\n",
    "print(f\"R-squared : {r2_score(y_test,y_pred)}\")\n",
    "print(f\"Mean Square Error : {mean_squared_error(y_test,y_pred)}\")\n",
    "print(f\"Mean Absolute Error : {mean_absolute_error(y_test,y_pred)}\")"
   ]
  },
  {
   "cell_type": "markdown",
   "id": "d38969da-374c-4c55-b856-12dede25eb0e",
   "metadata": {},
   "source": [
    "# Observation\n",
    "On performing Hyperparameter tuning on the same dataset we obtained an increase in r2 score from 98.9 to 99.3\n",
    "The best hyperparameters are 'learning_rate': 0.1, 'max_depth': 2, 'n_estimators': 300\n",
    "There is a significant decrease in MSE and MAE after performing hyper paramter tuning"
   ]
  },
  {
   "cell_type": "markdown",
   "id": "44e7cf97-7c9b-42bc-ac09-e85f934ac96c",
   "metadata": {},
   "source": [
    "Q4. What is a weak learner in Gradient Boosting?"
   ]
  },
  {
   "cell_type": "markdown",
   "id": "dc733711-55b3-4b9b-97b7-86b6403380c1",
   "metadata": {},
   "source": [
    "In Gradient Boosting, a weak learner, also known as a base learner or base model, is a simple and relatively low-performing machine learning model that is used as a building block in the ensemble. Weak learners are typically decision trees with limited depth, often referred to as \"stumps\" or \"shallow trees.\"\n",
    "\n",
    "The key characteristics of a weak learner are:\n",
    "\n",
    "Weak learners are intentionally kept simple and have limited complexity. For decision trees, this means they are shallow and have only a few levels or nodes.\n",
    "\n",
    "Weak learners individually may not perform well on the training data. They have limited ability to capture complex relationships in the data.\n",
    "\n",
    "Weak learners are designed to be biased towards the errors made by the current ensemble of models. They focus on the examples that are challenging to classify or predict correctly.\n",
    "\n",
    "The role of weak learners in Gradient Boosting is crucial. The algorithm combines the predictions of multiple weak learners in a sequential manner, with each learner aiming to correct the errors or residuals made by the previous ensemble. The cumulative effect of adding multiple weak learners is that the ensemble becomes a strong learner that can capture complex patterns and achieve high predictive accuracy.\n",
    "\n",
    "Gradient Boosting iteratively fits a weak learner to the residuals of the previous ensemble. The weak learner's job is to find patterns in the data that the ensemble has not yet captured. These patterns typically correspond to the remaining errors in the predictions. By focusing on the most challenging examples, the ensemble gradually reduces the errors and improves its overall performance."
   ]
  },
  {
   "cell_type": "markdown",
   "id": "7d891458-d01e-4877-b0fd-6e43b6ce981a",
   "metadata": {},
   "source": [
    "Q5. What is the intuition behind the Gradient Boosting algorithm?"
   ]
  },
  {
   "cell_type": "markdown",
   "id": "2a239192-5575-4a5d-aec1-bf17d0a3c958",
   "metadata": {},
   "source": [
    "Gradient Boosting is an ensemble learning technique that combines the predictions of multiple weak learners (usually shallow decision trees) to create a strong and accurate model. The idea is that by combining the outputs of these weak learners, the ensemble can overcome the limitations of individual models and capture complex patterns in the data.\n",
    "\n",
    "Gradient Boosting builds the ensemble sequentially, with each weak learner focusing on correcting the errors made by the previous ensemble. In other words, it learns from the mistakes of the ensemble and gradually reduces those mistakes.\n",
    "\n",
    "The \"Gradient\" in Gradient Boosting refers to the gradient descent optimization technique used to minimize a loss function. In each iteration, a weak learner is trained to minimize the loss function with respect to the residuals (errors) made by the current ensemble. This means the weak learner is \"guided\" by the gradient of the loss function to improve the predictions.\n",
    "\n",
    "After training, the predictions from the weak learner are combined with the predictions from the previous ensemble, and each contribution is weighted. The weights are determined by the optimization process and are based on the weak learner's ability to reduce the errors. This weighted combination ensures that the ensemble focuses more on the examples that are challenging to predict.\n",
    "\n",
    "Gradient Boosting includes regularization techniques, such as the learning rate, to control the step size and prevent overfitting. The learning rate determines how much each weak learner's prediction is added to the ensemble's predictions. Smaller learning rates lead to more conservative updates and reduce the risk of overfitting.\n",
    "\n",
    "The iterative nature of Gradient Boosting allows it to adapt and improve its predictions over time. It continues to add weak learners until a stopping criterion is met, such as reaching a maximum number of iterations or achieving a satisfactory level of performance. The final ensemble is a strong learner capable of achieving high predictive accuracy.\n",
    "\n",
    "In essence, Gradient Boosting is a \"learning from mistakes\" approach that builds a strong model by iteratively correcting the errors of the previous ensemble. It leverages the power of many weak learners to create a robust and accurate predictive model, making it one of the most popular and effective machine learning algorithms for a wide range of tasks, including regression and classification.\n",
    "\n"
   ]
  },
  {
   "cell_type": "markdown",
   "id": "cea2eb6d-e99e-41f0-b1d8-80e3a3b0251d",
   "metadata": {},
   "source": [
    "Q6. How does Gradient Boosting algorithm build an ensemble of weak learners?"
   ]
  },
  {
   "cell_type": "markdown",
   "id": "f0c08583-2220-48f5-bc36-12624a9118ed",
   "metadata": {},
   "source": [
    "The Gradient Boosting algorithm builds an ensemble of weak learners in a sequential manner. The steps include :\n",
    "\n",
    "Initialization:\n",
    "The process starts with an initial prediction, often a simple one like the mean of the target variable for regression problems or the class with the highest frequency for classification problems. This initial prediction serves as the starting point for building the ensemble.\n",
    "\n",
    "Iteration (Sequential Construction):\n",
    "In each iteration, a new weak learner (often a shallow decision tree, also called a \"stump\") is trained on the training data.\n",
    "The weak learner's primary task is to fit the residuals (the differences between the true target values and the current ensemble's predictions) from the previous iteration. These residuals represent the errors made by the current ensemble.\n",
    "The weak learner is trained to minimize the residuals' loss function, effectively learning to correct the ensemble's errors.\n",
    "\n",
    "Weighted Contribution:\n",
    "Once the new weak learner is trained, its predictions are combined with the predictions from the previous ensemble. However, these contributions are weighted.\n",
    "The weights are determined by an optimization process, where the algorithm finds the optimal weight for each weak learner. The optimization aims to minimize a loss function that quantifies how well the ensemble is performing.\n",
    "\n",
    "Update Ensemble Predictions:\n",
    "The predictions from the new weak learner, weighted according to their importance, are added to the ensemble's predictions from the previous iterations.\n",
    "This update improves the ensemble's predictions, gradually reducing the errors made on the training data.\n",
    "\n",
    "Iterative Process:\n",
    "Steps 2 to 4 are repeated for a fixed number of iterations (controlled by the n_estimators hyperparameter) or until a stopping criterion is met. The stopping criterion can be based on the magnitude of residuals or other performance metrics.\n",
    "\n",
    "Final Ensemble:\n",
    "The final ensemble is the cumulative effect of all the weak learners' contributions. It represents the ensemble's predictions after all iterations.\n",
    "\n",
    "Regularization (Learning Rate):\n",
    "Gradient Boosting often includes a regularization parameter called the \"learning rate\" (λ or α). The learning rate controls the step size of each update, ensuring that the ensemble learning process is not too aggressive. Smaller learning rates lead to more conservative updates and help prevent overfitting.\n",
    "\n",
    "The key idea behind Gradient Boosting is to iteratively improve the ensemble's predictions by adding weak learners that focus on correcting the errors made by the previous ensemble. By emphasizing the examples that are challenging to predict, Gradient Boosting creates a strong learner capable of capturing complex relationships in the data and achieving high predictive accuracy."
   ]
  },
  {
   "cell_type": "markdown",
   "id": "eae47b10-e37c-4643-9ab3-1ec96ce22be0",
   "metadata": {},
   "source": [
    "Q7. What are the steps involved in constructing the mathematical intuition of Gradient Boosting\n",
    "algorithm?"
   ]
  },
  {
   "cell_type": "markdown",
   "id": "32ccc8c5-47cf-4973-b8bb-00c9e5ea6d86",
   "metadata": {},
   "source": [
    "Gradient Boosting is a popular machine learning algorithm used for both regression and classification tasks.\n",
    "\n",
    "The steps involved in constructing the mathematical intuition of Gradient Boosting:\n",
    "\n",
    "Define the problem: Define the problem you want to solve using Gradient Boosting, whether it's a regression or classification task.\n",
    "\n",
    "Define the loss function: The loss function is a measure of how well the algorithm is doing in fitting the training data. In Gradient Boosting, we typically use a differentiable loss function such as mean squared error for regression or log loss for classification.\n",
    "\n",
    "Create an initial model: Create an initial model to make predictions. This model can be as simple as the mean of the target variable or a linear regression model.\n",
    "\n",
    "Calculate the residual errors: Calculate the residual errors by subtracting the predictions of the initial model from the actual values of the target variable.\n",
    "\n",
    "Train a new model on the residual errors: Train a new model on the residual errors from the previous step. This model is usually a decision tree with a fixed depth.\n",
    "\n",
    "Add the predictions of the new model to the previous predictions: Add the predictions of the new model to the previous predictions to update the model. This process is called boosting because we are boosting the performance of the model by adding new models to it.\n",
    "\n",
    "Repeat steps 4 to 6 until convergence: Repeat steps 4 to 6 until the model converges or until a stopping criterion is met. The stopping criterion can be a maximum number of models, a threshold for the improvement of the loss function, or a maximum depth for the decision trees.\n",
    "\n",
    "Make predictions: Use the final model to make predictions on new data."
   ]
  }
 ],
 "metadata": {
  "kernelspec": {
   "display_name": "Python 3 (ipykernel)",
   "language": "python",
   "name": "python3"
  },
  "language_info": {
   "codemirror_mode": {
    "name": "ipython",
    "version": 3
   },
   "file_extension": ".py",
   "mimetype": "text/x-python",
   "name": "python",
   "nbconvert_exporter": "python",
   "pygments_lexer": "ipython3",
   "version": "3.10.8"
  }
 },
 "nbformat": 4,
 "nbformat_minor": 5
}
